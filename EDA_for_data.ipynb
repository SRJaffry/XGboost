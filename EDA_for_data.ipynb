{
 "cells": [
  {
   "cell_type": "code",
   "execution_count": 1,
   "id": "8cdd7139-9cf0-455a-a62b-4ed547879944",
   "metadata": {},
   "outputs": [],
   "source": [
    "import numpy as np\n",
    "import pandas as pd\n",
    " \n",
    "%matplotlib inline\n",
    "import matplotlib\n",
    "import matplotlib.pyplot as plt\n",
    "from matplotlib.pyplot import figure\n",
    "\n",
    "import seaborn as sns"
   ]
  },
  {
   "cell_type": "code",
   "execution_count": 2,
   "id": "3a7dae51-700b-4bf3-bf91-4362a6c7d269",
   "metadata": {},
   "outputs": [
    {
     "data": {
      "text/html": [
       "<div>\n",
       "<style scoped>\n",
       "    .dataframe tbody tr th:only-of-type {\n",
       "        vertical-align: middle;\n",
       "    }\n",
       "\n",
       "    .dataframe tbody tr th {\n",
       "        vertical-align: top;\n",
       "    }\n",
       "\n",
       "    .dataframe thead th {\n",
       "        text-align: right;\n",
       "    }\n",
       "</style>\n",
       "<table border=\"1\" class=\"dataframe\">\n",
       "  <thead>\n",
       "    <tr style=\"text-align: right;\">\n",
       "      <th></th>\n",
       "      <th>No.</th>\n",
       "      <th>Longitude</th>\n",
       "      <th>Latitude</th>\n",
       "      <th>DateTime</th>\n",
       "      <th>Serving RSRP_All Logs</th>\n",
       "      <th>Serving RSRQ_All Logs</th>\n",
       "      <th>Serving RSSI_All Logs</th>\n",
       "      <th>Serving PCC SINR_All Logs</th>\n",
       "      <th>Serving DL EARFCN_All Logs</th>\n",
       "      <th>PCC PHY Throughput DL_All Logs</th>\n",
       "      <th>PDCP Throughput DL_All Logs</th>\n",
       "    </tr>\n",
       "  </thead>\n",
       "  <tbody>\n",
       "    <tr>\n",
       "      <th>0</th>\n",
       "      <td>1</td>\n",
       "      <td>3.36693333\\t</td>\n",
       "      <td>6.55639500\\t</td>\n",
       "      <td>2017-04-01 12:22:55.500\\t</td>\n",
       "      <td>-67.65</td>\n",
       "      <td>-7.81</td>\n",
       "      <td>-45.52</td>\n",
       "      <td>12.26</td>\n",
       "      <td>1876</td>\n",
       "      <td>\\t</td>\n",
       "      <td>\\t</td>\n",
       "    </tr>\n",
       "    <tr>\n",
       "      <th>1</th>\n",
       "      <td>2</td>\n",
       "      <td>3.36693131\\t</td>\n",
       "      <td>6.55650114\\t</td>\n",
       "      <td>2017-04-01 12:22:56.500\\t</td>\n",
       "      <td>-66.53</td>\n",
       "      <td>-8.5</td>\n",
       "      <td>-43.9</td>\n",
       "      <td>8.09</td>\n",
       "      <td>1876</td>\n",
       "      <td>\\t</td>\n",
       "      <td>7898.39</td>\n",
       "    </tr>\n",
       "    <tr>\n",
       "      <th>2</th>\n",
       "      <td>3</td>\n",
       "      <td>3.36692891\\t</td>\n",
       "      <td>6.55668426\\t</td>\n",
       "      <td>2017-04-01 12:22:57.500\\t</td>\n",
       "      <td>-70.77</td>\n",
       "      <td>-8.66</td>\n",
       "      <td>-48.02</td>\n",
       "      <td>7.83</td>\n",
       "      <td>1876</td>\n",
       "      <td>8737.41</td>\n",
       "      <td>7204.2</td>\n",
       "    </tr>\n",
       "  </tbody>\n",
       "</table>\n",
       "</div>"
      ],
      "text/plain": [
       "   No.     Longitude      Latitude                   DateTime  \\\n",
       "0    1  3.36693333\\t  6.55639500\\t  2017-04-01 12:22:55.500\\t   \n",
       "1    2  3.36693131\\t  6.55650114\\t  2017-04-01 12:22:56.500\\t   \n",
       "2    3  3.36692891\\t  6.55668426\\t  2017-04-01 12:22:57.500\\t   \n",
       "\n",
       "  Serving RSRP_All Logs Serving RSRQ_All Logs Serving RSSI_All Logs  \\\n",
       "0                -67.65                 -7.81                -45.52   \n",
       "1                -66.53                  -8.5                 -43.9   \n",
       "2                -70.77                 -8.66                -48.02   \n",
       "\n",
       "  Serving PCC SINR_All Logs Serving DL EARFCN_All Logs  \\\n",
       "0                     12.26                       1876   \n",
       "1                      8.09                       1876   \n",
       "2                      7.83                       1876   \n",
       "\n",
       "  PCC PHY Throughput DL_All Logs PDCP Throughput DL_All Logs  \n",
       "0                             \\t                          \\t  \n",
       "1                             \\t                     7898.39  \n",
       "2                        8737.41                      7204.2  "
      ]
     },
     "execution_count": 2,
     "metadata": {},
     "output_type": "execute_result"
    }
   ],
   "source": [
    "A = pd.read_excel('Measurements.xlsx', engine='openpyxl')\n",
    "A.head(3)"
   ]
  },
  {
   "cell_type": "code",
   "execution_count": 9,
   "id": "00197c29-2a61-46a4-b549-bf015a42fc6d",
   "metadata": {
    "tags": []
   },
   "outputs": [
    {
     "name": "stderr",
     "output_type": "stream",
     "text": [
      "C:\\Users\\SHAN_J~1\\AppData\\Local\\Temp/ipykernel_26856/3003913073.py:10: SettingWithCopyWarning: \n",
      "A value is trying to be set on a copy of a slice from a DataFrame\n",
      "\n",
      "See the caveats in the documentation: https://pandas.pydata.org/pandas-docs/stable/user_guide/indexing.html#returning-a-view-versus-a-copy\n",
      "  df['PCC PHY Throughput DL_All Logs'][r] = np.nan\n",
      "C:\\Users\\SHAN_J~1\\AppData\\Local\\Temp/ipykernel_26856/3003913073.py:14: SettingWithCopyWarning: \n",
      "A value is trying to be set on a copy of a slice from a DataFrame\n",
      "\n",
      "See the caveats in the documentation: https://pandas.pydata.org/pandas-docs/stable/user_guide/indexing.html#returning-a-view-versus-a-copy\n",
      "  df[\"PDCP Throughput DL_All Logs\"][r] = np.nan\n"
     ]
    }
   ],
   "source": [
    "df = A.copy()\n",
    "df[\"Longitude\"] = df[\"Longitude\"].str.replace(\"\\t\",\"\")\n",
    "df[\"Latitude\"] = df[\"Latitude\"].str.replace(\"\\t\",\"\")\n",
    "df[\"DateTime\"] = df[\"DateTime\"].str.replace(\"\\t\",\"\") \n",
    "    \n",
    "# I remove all the '\\t' from the string and then replace it with NaN. Later I will remove the NaNs\n",
    "for r in range(0,len(df)):\n",
    "    if type(df['PCC PHY Throughput DL_All Logs'][r]) == str:\n",
    "        # df['PCC PHY Throughput DL_All Logs'][r] = df['PCC PHY Throughput DL_All Logs'][r].replace(\"\\t\", \"\") \n",
    "        df['PCC PHY Throughput DL_All Logs'][r] = np.nan\n",
    "    \n",
    "    if type(df['PDCP Throughput DL_All Logs'][r]) == str:\n",
    "        # df[\"PDCP Throughput DL_All Logs\"][r] = df[\"PDCP Throughput DL_All Logs\"][r].replace(\"\\t\", \"\")\n",
    "        df[\"PDCP Throughput DL_All Logs\"][r] = np.nan\n",
    "\n",
    "df.dropna(inplace = True)\n",
    "# df.head(5)\n",
    "\n",
    "df['Longitude'] = pd.to_numeric(df['Longitude'].values,  errors='coerce')\n",
    "df['Latitude'] = pd.to_numeric(df['Latitude'].values,  errors='coerce')\n",
    "df['DateTime'] = pd.to_datetime(df['DateTime'].values,  errors='coerce')\n",
    "df['Serving RSRP_All Logs'] = pd.to_numeric(df['Serving RSRP_All Logs'].values,  errors='coerce')\n",
    "df['Serving RSRQ_All Logs'] = pd.to_numeric(df['Serving RSRQ_All Logs'].values,  errors='coerce')\n",
    "df['Serving DL EARFCN_All Logs'] = pd.to_numeric(df['Serving DL EARFCN_All Logs'].values,  errors='coerce')\n",
    "df['Serving RSSI_All Logs'] = pd.to_numeric(df['Serving RSSI_All Logs'].values,  errors='coerce')\n",
    "df['Serving PCC SINR_All Logs'] = pd.to_numeric(df['Serving PCC SINR_All Logs'].values,  errors='coerce')\n",
    "df['PCC PHY Throughput DL_All Logs'] = pd.to_numeric(df['PCC PHY Throughput DL_All Logs'].values,  errors='coerce')\n",
    "df['PDCP Throughput DL_All Logs'] = pd.to_numeric(df['PDCP Throughput DL_All Logs'].values,  errors='coerce')\n",
    "\n",
    "df.to_csv('cleaned_data_csv.csv', index = False)"
   ]
  },
  {
   "cell_type": "code",
   "execution_count": 7,
   "id": "b6a3bcd5-fb12-4055-8d40-b7c53766cd45",
   "metadata": {
    "tags": []
   },
   "outputs": [
    {
     "data": {
      "text/plain": [
       "No.                                        int64\n",
       "Longitude                                float64\n",
       "Latitude                                 float64\n",
       "DateTime                          datetime64[ns]\n",
       "Serving RSRP_All Logs                    float64\n",
       "Serving RSRQ_All Logs                    float64\n",
       "Serving RSSI_All Logs                    float64\n",
       "Serving PCC SINR_All Logs                float64\n",
       "Serving DL EARFCN_All Logs               float64\n",
       "PCC PHY Throughput DL_All Logs           float64\n",
       "PDCP Throughput DL_All Logs              float64\n",
       "dtype: object"
      ]
     },
     "execution_count": 7,
     "metadata": {},
     "output_type": "execute_result"
    }
   ],
   "source": [
    "df.dtypes"
   ]
  },
  {
   "cell_type": "code",
   "execution_count": null,
   "id": "014bbfc0-85a5-4001-a57e-11ec99d13466",
   "metadata": {},
   "outputs": [],
   "source": [
    "# df.corr()\n",
    "plt.figure(figsize=(8,8))\n",
    "sns.heatmap(df.corr(),cbar=True,annot=True,cmap='Blues')"
   ]
  },
  {
   "cell_type": "code",
   "execution_count": null,
   "id": "feb9f3ff-245d-46dd-9740-0c6e62a6f5f0",
   "metadata": {},
   "outputs": [],
   "source": [
    "#\n",
    "plt.figure(figsize=(5,5))\n",
    "plt.scatter(x='PCC_SINR',y='PCC_PHY_Thruput_DL', data=df)\n",
    "plt.xlabel('SINR')\n",
    "plt.ylabel('PCC PHY Throutput (DL)')"
   ]
  },
  {
   "cell_type": "code",
   "execution_count": null,
   "id": "fa8a3595-953a-49b7-8e95-30ed925f5e5a",
   "metadata": {},
   "outputs": [],
   "source": [
    "plt.figure(figsize=(5,5))\n",
    "plt.scatter(x='RSRP',y='PCC_PHY_Thruput_DL', data=df)\n",
    "plt.xlabel('RSRP (dB)')\n",
    "plt.ylabel('PCC PHY Throutput (DL)')"
   ]
  }
 ],
 "metadata": {
  "kernelspec": {
   "display_name": "Python 3 (ipykernel)",
   "language": "python",
   "name": "python3"
  },
  "language_info": {
   "codemirror_mode": {
    "name": "ipython",
    "version": 3
   },
   "file_extension": ".py",
   "mimetype": "text/x-python",
   "name": "python",
   "nbconvert_exporter": "python",
   "pygments_lexer": "ipython3",
   "version": "3.9.5"
  }
 },
 "nbformat": 4,
 "nbformat_minor": 5
}
