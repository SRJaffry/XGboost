{
 "cells": [
  {
   "cell_type": "markdown",
   "id": "f5eb31ab-84d1-4a71-8ac1-caefb058ed99",
   "metadata": {},
   "source": [
    "### Important Notes\n",
    "Important link related to [EDA](https://www.analyticsvidhya.com/blog/2021/08/how-to-perform-exploratory-data-analysis-a-guide-for-beginners/)<br>\n",
    "\n",
    "Information related to RSRP, RSSI etc. can be found [here](https://www.signalbooster.com/blogs/news/acronyms-rsrp-rssi-rsrq-sinr#:~:text=There're%20many%20acronyms%20related,to%20Interference%20plus%20Noise%20Ratio.)"
   ]
  },
  {
   "cell_type": "code",
   "execution_count": 1,
   "id": "8cdd7139-9cf0-455a-a62b-4ed547879944",
   "metadata": {},
   "outputs": [],
   "source": [
    "import numpy as np\n",
    "import pandas as pd\n",
    " \n",
    "%matplotlib inline\n",
    "import matplotlib\n",
    "import matplotlib.pyplot as plt\n",
    "from matplotlib.pyplot import figure\n",
    "\n",
    "import seaborn as sns"
   ]
  },
  {
   "cell_type": "code",
   "execution_count": 2,
   "id": "00197c29-2a61-46a4-b549-bf015a42fc6d",
   "metadata": {
    "tags": []
   },
   "outputs": [
    {
     "data": {
      "text/html": [
       "<div>\n",
       "<style scoped>\n",
       "    .dataframe tbody tr th:only-of-type {\n",
       "        vertical-align: middle;\n",
       "    }\n",
       "\n",
       "    .dataframe tbody tr th {\n",
       "        vertical-align: top;\n",
       "    }\n",
       "\n",
       "    .dataframe thead th {\n",
       "        text-align: right;\n",
       "    }\n",
       "</style>\n",
       "<table border=\"1\" class=\"dataframe\">\n",
       "  <thead>\n",
       "    <tr style=\"text-align: right;\">\n",
       "      <th></th>\n",
       "      <th>RSRP</th>\n",
       "      <th>RSRQ</th>\n",
       "      <th>RSSI</th>\n",
       "      <th>PCC_SINR</th>\n",
       "      <th>PCC_PHY_Thruput_DL</th>\n",
       "      <th>PDCP_Thruput_DL</th>\n",
       "    </tr>\n",
       "  </thead>\n",
       "  <tbody>\n",
       "    <tr>\n",
       "      <th>2</th>\n",
       "      <td>-70.77</td>\n",
       "      <td>-8.66</td>\n",
       "      <td>-48.02</td>\n",
       "      <td>7.83</td>\n",
       "      <td>8737.41</td>\n",
       "      <td>7204.20</td>\n",
       "    </tr>\n",
       "    <tr>\n",
       "      <th>3</th>\n",
       "      <td>-72.40</td>\n",
       "      <td>-10.56</td>\n",
       "      <td>-47.17</td>\n",
       "      <td>4.95</td>\n",
       "      <td>6969.09</td>\n",
       "      <td>5073.57</td>\n",
       "    </tr>\n",
       "    <tr>\n",
       "      <th>4</th>\n",
       "      <td>-71.32</td>\n",
       "      <td>-10.13</td>\n",
       "      <td>-47.11</td>\n",
       "      <td>5.65</td>\n",
       "      <td>3874.06</td>\n",
       "      <td>2846.46</td>\n",
       "    </tr>\n",
       "    <tr>\n",
       "      <th>5</th>\n",
       "      <td>-69.92</td>\n",
       "      <td>-9.62</td>\n",
       "      <td>-46.18</td>\n",
       "      <td>6.95</td>\n",
       "      <td>5575.82</td>\n",
       "      <td>5308.10</td>\n",
       "    </tr>\n",
       "    <tr>\n",
       "      <th>6</th>\n",
       "      <td>-72.43</td>\n",
       "      <td>-10.30</td>\n",
       "      <td>-47.74</td>\n",
       "      <td>4.28</td>\n",
       "      <td>6114.99</td>\n",
       "      <td>3678.47</td>\n",
       "    </tr>\n",
       "  </tbody>\n",
       "</table>\n",
       "</div>"
      ],
      "text/plain": [
       "    RSRP   RSRQ   RSSI  PCC_SINR  PCC_PHY_Thruput_DL  PDCP_Thruput_DL\n",
       "2 -70.77  -8.66 -48.02      7.83             8737.41          7204.20\n",
       "3 -72.40 -10.56 -47.17      4.95             6969.09          5073.57\n",
       "4 -71.32 -10.13 -47.11      5.65             3874.06          2846.46\n",
       "5 -69.92  -9.62 -46.18      6.95             5575.82          5308.10\n",
       "6 -72.43 -10.30 -47.74      4.28             6114.99          3678.47"
      ]
     },
     "execution_count": 2,
     "metadata": {},
     "output_type": "execute_result"
    }
   ],
   "source": [
    "A = pd.read_excel('Measurements.xlsx', engine='openpyxl')\n",
    "\n",
    "df = A.copy()\n",
    "df.drop(columns=['No.', 'Latitude', 'Longitude', 'DateTime', 'Serving DL EARFCN_All Logs'], inplace = True)\n",
    "\n",
    "# I remove all the '\\t' from the string and then replace it with NaN. Later I will remove the NaNs\n",
    "for r in range(0,len(df)):\n",
    "    if type(df['PCC PHY Throughput DL_All Logs'][r]) == str:\n",
    "        # df['PCC PHY Throughput DL_All Logs'][r] = df['PCC PHY Throughput DL_All Logs'][r].replace(\"\\t\", \"\") \n",
    "        df['PCC PHY Throughput DL_All Logs'][r] = np.nan\n",
    "    \n",
    "    if type(df['PDCP Throughput DL_All Logs'][r]) == str:\n",
    "        # df[\"PDCP Throughput DL_All Logs\"][r] = df[\"PDCP Throughput DL_All Logs\"][r].replace(\"\\t\", \"\")\n",
    "        df[\"PDCP Throughput DL_All Logs\"][r] = np.nan\n",
    "        \n",
    "df.dropna(inplace = True)\n",
    "\n",
    "\n",
    "df['Serving RSRP_All Logs'] = pd.to_numeric(df['Serving RSRP_All Logs'].values,  errors='coerce')\n",
    "df['Serving RSRQ_All Logs'] = pd.to_numeric(df['Serving RSRQ_All Logs'].values,  errors='coerce')\n",
    "df['Serving RSSI_All Logs'] = pd.to_numeric(df['Serving RSSI_All Logs'].values,  errors='coerce')\n",
    "df['Serving PCC SINR_All Logs'] = pd.to_numeric(df['Serving PCC SINR_All Logs'].values,  errors='coerce')\n",
    "df['PCC PHY Throughput DL_All Logs'] = pd.to_numeric(df['PCC PHY Throughput DL_All Logs'].values,  errors='coerce')\n",
    "df['PDCP Throughput DL_All Logs'] = pd.to_numeric(df['PDCP Throughput DL_All Logs'].values,  errors='coerce')\n",
    "\n",
    "df.columns = ['RSRP', 'RSRQ', 'RSSI', 'PCC_SINR', 'PCC_PHY_Thruput_DL', 'PDCP_Thruput_DL']\n",
    "\n",
    "df.reset_index(drop = True, inplace =True)\n",
    "\n",
    "df.head(5)"
   ]
  },
  {
   "cell_type": "code",
   "execution_count": 12,
   "id": "3fb68ba5-b47e-4617-8581-1fff544d2efa",
   "metadata": {},
   "outputs": [],
   "source": [
    "df.to_csv('data/data_ready_ML.csv', index = False)"
   ]
  },
  {
   "cell_type": "code",
   "execution_count": 9,
   "id": "81e74073-7935-43fd-97a5-62b7475c1bf9",
   "metadata": {
    "tags": []
   },
   "outputs": [
    {
     "data": {
      "text/plain": [
       "<AxesSubplot:>"
      ]
     },
     "execution_count": 9,
     "metadata": {},
     "output_type": "execute_result"
    },
    {
     "data": {
      "image/png": "[encoded data removed]",
      "text/plain": [
       "<Figure size 576x576 with 2 Axes>"
      ]
     },
     "metadata": {
      "needs_background": "light"
     },
     "output_type": "display_data"
    }
   ],
   "source": [
    "plt.figure(figsize=(8,8))\n",
    "sns.heatmap(df.corr(),cbar=True,annot=True,cmap='Blues')"
   ]
  },
  {
   "cell_type": "code",
   "execution_count": null,
   "id": "23ead13b-a4eb-4565-a755-2b7fb372e66b",
   "metadata": {},
   "outputs": [],
   "source": [
    "df.corr()"
   ]
  },
  {
   "cell_type": "code",
   "execution_count": null,
   "id": "eec9e4f8-1f51-4138-8f89-8e915818fa6d",
   "metadata": {},
   "outputs": [],
   "source": [
    "plt.figure(figsize=(5,5))\n",
    "plt.scatter(x='PCC_SINR',y='PCC_PHY_Thruput_DL', data=df)\n",
    "plt.xlabel('SINR')\n",
    "plt.ylabel('PCC PHY Throutput (DL)')"
   ]
  },
  {
   "cell_type": "code",
   "execution_count": null,
   "id": "97945ee0-fc51-45bf-8e71-1b083d8575f3",
   "metadata": {},
   "outputs": [],
   "source": [
    "plt.figure(figsize=(5,5))\n",
    "plt.scatter(x='RSRP',y='PCC_PHY_Thruput_DL', data=df)\n",
    "plt.xlabel('RSRP (dB)')\n",
    "plt.ylabel('PCC PHY Throutput (DL)')"
   ]
  },
  {
   "cell_type": "code",
   "execution_count": null,
   "id": "b8fabfcc-3497-478f-87dc-154ef2e0a0cf",
   "metadata": {},
   "outputs": [],
   "source": [
    "sns.boxplot(x='PCC_PHY_Thruput_DL',y='PCC_SINR',data=df)"
   ]
  }
 ],
 "metadata": {
  "kernelspec": {
   "display_name": "Python 3 (ipykernel)",
   "language": "python",
   "name": "python3"
  },
  "language_info": {
   "codemirror_mode": {
    "name": "ipython",
    "version": 3
   },
   "file_extension": ".py",
   "mimetype": "text/x-python",
   "name": "python",
   "nbconvert_exporter": "python",
   "pygments_lexer": "ipython3",
   "version": "3.9.5"
  }
 },
 "nbformat": 4,
 "nbformat_minor": 5
}
